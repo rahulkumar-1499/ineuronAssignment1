{
 "cells": [
  {
   "cell_type": "markdown",
   "id": "ab1c6bff-da59-470a-b405-89939cffb00c",
   "metadata": {},
   "source": [
    "1.Keywords  are reserved words that have specific meanings and functionalities which cannot be used as identifiers  because they are already predefined and used for specific purposes. Keywords play a crucial role in defining the structure and behavior of Python programs.\n",
    "\n",
    "from keyword import kwlist\n",
    "print(kwlist)\n",
    "\n",
    "    #this will print\n",
    "    #['False', 'None', 'True', 'and', 'as', 'assert', 'async', 'await', 'break', 'class', 'continue', 'def', 'del', 'elif', 'else', 'except', 'finally', 'for', 'from', 'global', 'if', 'import', 'in', 'is', 'lambda', 'nonlocal', 'not', 'or', 'pass', 'raise', 'return', 'try', 'while', 'with', 'yield']\n"
   ]
  },
  {
   "cell_type": "markdown",
   "id": "1d29e5c1-879f-4c75-8dc0-c0c08f566126",
   "metadata": {},
   "source": [
    "2.\n",
    "i.   A Python variable name must start with a letter or the underscore character.\n",
    "ii.  A Python variable name cannot start with a number.\n",
    "iii. A Python variable name can only contain alpha-numeric characters and underscores (A-z, 0-9, and _ ).\n",
    "iv.  Variable in Python names are case-sensitive i.e. x is different from X.\n",
    "v.   The reserved words(keywords) in Python cannot be used to name the variable in Python.\n"
   ]
  },
  {
   "cell_type": "markdown",
   "id": "b0fac34f-b4f1-404c-b820-615f5a46a372",
   "metadata": {},
   "source": [
    "3.\n",
    "\n",
    "Use Descriptive Names:\n",
    "Choose variable names that are meaningful and clearly convey the purpose or content of the variable. This makes it easier for us and others to understand the code's functionality.\n",
    "\n",
    "Use Lowercase Letters:\n",
    "Variable names should be in all lowercase letters. This improves readability and makes the code more consistent.\n",
    "\n",
    "Separate Words with Underscores:\n",
    "Use underscores (_) to separate words within a variable name. This enhances readability by making multi-word variable names more distinguishable.\n",
    "\n",
    "Avoid Single Character Names (Except for Loops):\n",
    "Except for loop counters or temporary variables, avoid using single-letter variable names. Instead, opt for descriptive names that provide context.\n",
    "\n",
    "Be Consistent:\n",
    "Maintain a consistent naming style throughout your codebase. If we start using snake_case for variable names, stick with it. Consistency improves code readability.\n",
    "\n",
    "Use Plural for Collection Names:\n",
    "When naming variables that store collections (lists, sets, dictionaries), use plural names to indicate that they hold multiple items. For example: students, products, user_list.\n",
    "\n",
    "Avoid Ambiguous Names:\n",
    "Choose variable names that cannot be easily confused with each other. For instance, don't name variables l (lowercase L) and 1 (digit one), as they look similar in some fonts.\n",
    "\n",
    "Use Abbreviations Wisely:\n",
    "Avoid excessive or obscure abbreviations. Abbreviations that are widely understood and add clarity to the variable's purpose can be used."
   ]
  },
  {
   "cell_type": "markdown",
   "id": "c30c291e-a610-46f9-a883-565ac5ec1b8d",
   "metadata": {},
   "source": [
    "4.If we use a Python keyword as a variable name, we will encounter a syntax error. Keywords are reserved words  that have predefined meanings."
   ]
  },
  {
   "cell_type": "markdown",
   "id": "1ed8a33a-8337-4344-a380-29697513857d",
   "metadata": {},
   "source": [
    "5.def keyword is used to define a function.\n",
    "\n",
    "for eg:\n",
    "\n",
    "def area(a,b):\n",
    "    return a*b"
   ]
  },
  {
   "cell_type": "markdown",
   "id": "346718c0-5dc5-4202-a596-31f343d12624",
   "metadata": {},
   "source": [
    "6.The special character '\\', also known as the backslash, is used as an escape character to indicate that the character following the backslash has a special meaning.\n",
    "\n",
    "Escape Sequences: Backslashes are used to create escape sequences, which are combinations of characters that have a special meaning. For example:\n",
    "\n",
    "'\\n': Newline character (moves to the next line).\n",
    "'\\t': Tab character (creates horizontal spacing).\n",
    "'\\\\\"': Double quote character within a string.\n",
    "'\\\\': Literal backslash character.\n",
    "\n",
    "Raw Strings: Prefixing a string with the letter 'r' (e.g., r\"Hello\\n\") creates a raw string, where backslashes are treated as literal characters and not as escape characters. This is often used for regular expressions or file paths.\n",
    "\n",
    "Line Continuation: In cases where a line of code is too long to fit in a single line, you can use a backslash at the end of the line to indicate that the code continues on the next line."
   ]
  },
  {
   "cell_type": "markdown",
   "id": "dd3ea247-a155-4f3e-81f2-c2f6375ac3ac",
   "metadata": {},
   "source": [
    "7.\n",
    "i. Homogeneous list:-\n",
    "list1=[\"rahul\",\"shivam\",\"sameer\"]\n",
    "print(list1)\n",
    "\n",
    "ii.Heterogeneous set:-\n",
    "myset1={1,3.14,\"rahul\",True}\n",
    "print(myset1)\n",
    "\n",
    "iii.Homogeneous tuple:\n",
    "mytuple=(1,2,3,4,5)\n",
    "print(mytuple)"
   ]
  },
  {
   "cell_type": "markdown",
   "id": "56d9b6b7-64b1-4b95-b484-5ffa9038802a",
   "metadata": {},
   "source": [
    "8.Mutable Data Types:-\n",
    "i. List:-\n",
    "A list data structure is a ordered sequence of elements in Python, that is mutable, or changeable.\n",
    "for example;-\n",
    "mylist=[1,2,3]\n",
    "mylist.append(4)\n",
    "print(mylist)\n",
    "\n",
    "    #this will print [1,2,3,4]\n",
    "\n",
    "ii.set:-\n",
    "A set is an unordered collection of items where all elements of the set are unique and immutable in nature.However,set itself is mutable i.e. means, we can add or remove elements from a set in Python. Hence, we can perform operations in a set that can modify the overall set\n",
    "for eg:-\n",
    "my_set = {1,2,6,5,7,11}\n",
    "my_set.add(16)\n",
    "\n",
    "        #this will print [1,2,6,5,7,11,16]\n",
    "\n",
    "iii. Dictionary:-\n",
    "Dictionary in Python is an unordered collection of items. Each item of a dictionary has a key/value pair, using which we can access a particular key or value of a dictionary. Keys in dictionaries are unique in nature.Dictionary is a mutable data type.\n",
    "for eg:-\n",
    "my_dict = {\"state\":\"WB\", \"Capital\":\"Kolkata\"}\n",
    "my_dict['Country'] = \"India\"\n",
    "mydict\n",
    "    \n",
    "    #this will print \n",
    "    {'state': 'WB', 'Capital': 'Kolkata', 'Country': 'India'}\n",
    "\n",
    "\n",
    "Immutable Data Types:\n",
    "Immutable data types are those whose values cannot be modified after they are created. When you make changes to an immutable object, a new object is created with the modified value, leaving the original object unchanged. This behavior ensures data integrity and prevents unintended modifications.\n",
    "\n",
    "Common examples of immutable data types in Python include:\n",
    "\n",
    "Integers (int)\n",
    "Floating-point numbers (float)\n",
    "Strings (str)\n",
    "Tuples (tuple)\n",
    "Frozen sets (frozenset)\n",
    "\n",
    "Tuple:-\n",
    "There are one of the data type which is immutable and gives syntax error if we try to modify.\n",
    "for ex:-\n",
    "mytuple=(1,2,3,4)\n",
    "mytuple.add(5)\n",
    "mytuple\n",
    "\n",
    "    #this will give error as tuples are immutable\n",
    "\n",
    "for eg:-\n",
    "oldstring = \"hello\"\n",
    "newstring = oldstring.upper()\n",
    "\n",
    "print(oldstring)  # Output: \"hello\"\n",
    "print(newstring)  # Output: \"HELLO\"\n",
    "\n",
    "we can see that old string doesnot changed at all.hence immutable"
   ]
  },
  {
   "cell_type": "markdown",
   "id": "f9498ff1-8663-41ef-b886-9cc9d02b93ae",
   "metadata": {},
   "source": [
    "9..\n",
    "for i in range(5):\n",
    "    for j in range(5-i-1):\n",
    "        print(\" \",end=\"\")\n",
    "    for k in range(2*i-1):\n",
    "        print(\"*\",end=\"\")\n",
    "    print()"
   ]
  },
  {
   "cell_type": "markdown",
   "id": "f8ac2aaf-5834-4715-88a4-c49ec100f0dd",
   "metadata": {},
   "source": [
    "10.\n",
    "i=5\n",
    "t=0;\n",
    "while i>0:\n",
    "    while k <t:\n",
    "        print(\" \",end=\"\")\n",
    "        k+=1\n",
    "    for j in range(2*i-1):\n",
    "        print(\"|\",end=\"\")\n",
    "    i-=1;\n",
    "    k=0;\n",
    "    t+=1\n",
    "    print()\n",
    "        "
   ]
  }
 ],
 "metadata": {
  "kernelspec": {
   "display_name": "Python 3 (ipykernel)",
   "language": "python",
   "name": "python3"
  },
  "language_info": {
   "codemirror_mode": {
    "name": "ipython",
    "version": 3
   },
   "file_extension": ".py",
   "mimetype": "text/x-python",
   "name": "python",
   "nbconvert_exporter": "python",
   "pygments_lexer": "ipython3",
   "version": "3.10.6"
  }
 },
 "nbformat": 4,
 "nbformat_minor": 5
}
