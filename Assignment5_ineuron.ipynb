{
 "cells": [
  {
   "cell_type": "markdown",
   "id": "406b26e9-3d31-4447-9a38-4253035b7ec5",
   "metadata": {},
   "source": [
    "1.An empty dictionary  is represented by a pair of curly braces {} with no key-value pairs inside.\n",
    "for eg:-\n",
    "dict1={}\n",
    "\n",
    "we can add elements in the dictionary such as:-\n",
    "dict['name']='rahul'"
   ]
  },
  {
   "cell_type": "markdown",
   "id": "314a1b86-3279-4bb9-91a7-e38fcd72aa13",
   "metadata": {},
   "source": [
    "2.The value of a dictionary with the key 'foo' and the value 42 would be 42\n",
    "dict1 = {'foo': 42}\n",
    "print(my_dict['foo'])\n",
    "\n",
    "    #this will give output 42"
   ]
  },
  {
   "cell_type": "markdown",
   "id": "666b4e42-ecaf-4cd8-a0d4-3d365798d681",
   "metadata": {},
   "source": [
    "3.dictionary:-\n",
    ". A dictionary is a collection of key-value pairs where each key in a dictionary is unique and maps to a specific value. They are used to access values. They provide efficient lookups based on keys, allowing you to access values directly using the keys.\n",
    ". Values are retrieved from a dictionary by using the keys as the index which provides fast and efficient access to values based on the unique keys.\n",
    ". They are used when we want to store data with a specific label or key and need efficient access to the data using these keys. They are ideal for representing associations between pieces of data.\n",
    "\n",
    "List:-\n",
    ". A list is an ordered collection of values where each value in a list is assigned a position or index, starting from 0. Lists are accessed based on the index, where we specify the position to retrieve the value.\n",
    ". Values are retrieved from a list using the index of the value. Since lists are ordered, so we can access values by their position in the list. However, the access time may increase linearly with the size of the list.\n",
    ". They are used when we need an ordered collection of items that can be accessed by their position. They are suitable for sequences of data where the order matters."
   ]
  },
  {
   "cell_type": "markdown",
   "id": "d672be74-d35a-427f-aee0-8a65424f8214",
   "metadata": {},
   "source": [
    "4.If we try to access spam['foo'] where spam is the dictionary { 'bar': 100 }, we will get a 'KeyError' because the key 'foo' does not exist in the dictionary spam.\n",
    "\n",
    "for eg:-\n",
    "spam = {'bar': 100}\n",
    "\n",
    "try:\n",
    "    print(spam['foo'])\n",
    "except Exception as e:\n",
    "    print(e)\n",
    "    \n",
    "    #this will give error as 'KeyError'\n"
   ]
  },
  {
   "cell_type": "markdown",
   "id": "ef7b8424-2c23-489e-a886-fbb0164520e8",
   "metadata": {},
   "source": [
    "5.If a dictionary is stored in the variable spam, there is no practical difference between the expressions 'cat' in spam and 'cat' in spam.keys(). Both expressions are used to check if a key exists in the dictionary.\n",
    "\n",
    "In both cases, expression checks if the key 'cat' exists in the dictionary spam. It returns a boolean True if the key 'cat' is present in the dictionary as a key, and False otherwise."
   ]
  },
  {
   "cell_type": "markdown",
   "id": "209927da-aa9e-4484-ae3d-962ca7f38493",
   "metadata": {},
   "source": [
    "6.There will be difference which is discussed below:-\n",
    "\n",
    "'cat' in spam: This expression checks if the key 'cat' exists in the dictionary spam. It returns True if the key 'cat' is present in the dictionary as a key, and False otherwise.\n",
    "\n",
    "'cat' in spam.values(): This expression checks if the value 'cat' exists in the values of the dictionary spam. It returns True if the value 'cat' is present in any of the values of the dictionary, and False otherwise."
   ]
  },
  {
   "cell_type": "markdown",
   "id": "59a634d9-6639-4c53-92bc-54883d16ae9d",
   "metadata": {},
   "source": [
    "7.If the key 'color' is not in the dictionary spam and assigns the value 'black' we can use setdefault method.\n",
    "For eg:-\n",
    "spam.setdefault('color', 'black')\n"
   ]
  },
  {
   "cell_type": "markdown",
   "id": "45eca854-1ca1-42cf-98a0-5ea3dc85ad12",
   "metadata": {},
   "source": [
    "8.To \"pretty print\" dictionary values in Python, we can use json.dumps() function present in the json module's  with the indent parameter. This function converts Python objects to JSON format and allows you to control the formatting of the output.\n",
    "\n",
    "for eg:-\n",
    "import json\n",
    "\n",
    "dict1 = {'name': 'Rahul', 'age': 23, 'city': ''}\n",
    "\n",
    "json_val = json.dumps(dict1, indent=4)\n",
    "\n",
    "print(json_val)\n",
    "\n",
    "output will be\n",
    "\n",
    "{\n",
    "    \"name\": \"John\",\n",
    "    \"age\": 30,\n",
    "    \"city\": \"New York\"\n",
    "}\n",
    "\n"
   ]
  }
 ],
 "metadata": {
  "kernelspec": {
   "display_name": "Python 3 (ipykernel)",
   "language": "python",
   "name": "python3"
  },
  "language_info": {
   "codemirror_mode": {
    "name": "ipython",
    "version": 3
   },
   "file_extension": ".py",
   "mimetype": "text/x-python",
   "name": "python",
   "nbconvert_exporter": "python",
   "pygments_lexer": "ipython3",
   "version": "3.10.6"
  }
 },
 "nbformat": 4,
 "nbformat_minor": 5
}
