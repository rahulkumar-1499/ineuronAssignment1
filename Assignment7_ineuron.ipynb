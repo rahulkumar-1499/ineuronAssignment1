{
 "cells": [
  {
   "cell_type": "markdown",
   "id": "8e003adc",
   "metadata": {},
   "source": [
    "1.\n",
    "\n",
    "a=15\n",
    "b=3\n",
    "add1=a+b\n",
    "sub1=a-b\n",
    "div1=a/b\n",
    "mul1=a*b\n",
    "\n",
    "print('First variable is '+ str(a) +  ' & second variable is '+ str(b))\n",
    "print(f\"Addition: {a} + {b} = {add1}\")\n",
    "print(f\"Subtraction: {a} - {b} = {sub1}\")\n",
    "print(f\"Multiplication: {a} * {b} = {mul1}\")\n",
    "print(f\"Division: {a} / {b} = {div1}\")\n"
   ]
  },
  {
   "cell_type": "markdown",
   "id": "2040daf7",
   "metadata": {},
   "source": [
    "2.\n",
    "\n",
    " (i)  '/' and '//':\n",
    "\n",
    "/: This is the division operator which returns a floating point result. For example, 7 / 2 would result in 4.5. It performs floating-point division.\n",
    "\n",
    "//: This is the floor division operator in Python. It also performs division but always returns an integer result by rounding down to the nearest whole number. For example, 7 // 2 would result in 3. It discards the fractional part of the division result.\n",
    "\n",
    "(ii) '**' and '^':\n",
    "\n",
    "**: This represents exponentiation operator i.e. number is raises to some power.\n",
    "For eg: 2**3=8.\n",
    "\n",
    "^:This represents  bitwise XOR operator in Python between the corresponding bits of two numbers.For example. a=5 ,b=3\n",
    "a^b results 6."
   ]
  },
  {
   "cell_type": "markdown",
   "id": "1e2905c7",
   "metadata": {},
   "source": [
    "3.\n",
    "\n",
    "and: The and operator returns True if both operands are True, otherwise, it returns False. It performs a logical AND operation.\n",
    "\n",
    "or: The or operator returns True if at least one of the operands is True, and it returns False only if both operands are False. It performs a logical OR operation.\n",
    "\n",
    "not: The not operator is a unary operator that returns the opposite of the operand. If the operand is True, not returns False, and if the operand is False, not returns True. It performs a logical NOT operation."
   ]
  },
  {
   "cell_type": "markdown",
   "id": "38f33751",
   "metadata": {},
   "source": [
    "4.\n",
    "\n",
    "Right Shift Operator (>>):\n",
    "The right shift operator (>>) shifts the bits of an integer to the right by a specified number of positions. It effectively divides the integer by 2 raised to the power of the shift count.\n",
    "\n",
    "For example:\n",
    "num = 16  \n",
    "result = num >> 3  \n",
    "print(result)  # Output: 2\n",
    "\n",
    "Left Shift Operator (<<):\n",
    "\n",
    "The left shift operator (<<) shifts the bits of an integer to the left by a specified number of positions. It effectively multiplies the integer by 2 raised to the power of the shift count.\n",
    "\n",
    "For example:\n",
    "num = 5 \n",
    "result = num << 2 \n",
    "print(result)  # Output: 20 \n",
    "\n"
   ]
  },
  {
   "cell_type": "markdown",
   "id": "8776decb",
   "metadata": {},
   "source": [
    "5.\n",
    "\n",
    "integer_list = [3, 6, 8, 12, 5, 9, 18, 21, 15, 7, 10, 4, 2, 14, 11]\n",
    "\n",
    "\n",
    "if 10 in integer_list:\n",
    "    print(\"10 is present in the list.\")\n",
    "else:\n",
    "    print(\"10 is not present in the list.\")\n"
   ]
  }
 ],
 "metadata": {
  "kernelspec": {
   "display_name": "Python 3 (ipykernel)",
   "language": "python",
   "name": "python3"
  },
  "language_info": {
   "codemirror_mode": {
    "name": "ipython",
    "version": 3
   },
   "file_extension": ".py",
   "mimetype": "text/x-python",
   "name": "python",
   "nbconvert_exporter": "python",
   "pygments_lexer": "ipython3",
   "version": "3.10.9"
  }
 },
 "nbformat": 4,
 "nbformat_minor": 5
}
