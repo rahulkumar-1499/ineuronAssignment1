{
 "cells": [
  {
   "cell_type": "markdown",
   "id": "0d5b5dbe",
   "metadata": {},
   "source": [
    "# Assignment 1"
   ]
  },
  {
   "cell_type": "raw",
   "id": "dc1cb455",
   "metadata": {},
   "source": [
    "1.\n",
    "\n",
    "*          = Expression\n",
    "'hello'    = string value\n",
    "-87.8      = floating value\n",
    "-          = Expression\n",
    "/          = Expression\n",
    " +         = Expression\n",
    " 6         = integer value"
   ]
  },
  {
   "cell_type": "markdown",
   "id": "3da8d3a7",
   "metadata": {},
   "source": [
    "2.\n",
    "\n",
    "string is a data type which represents a sequence of characters. For example \"Myself Rahul\"  whereas,\n",
    "\n",
    "variable is a symbolic name which is used to store and refer to value irrespective of any data types such as int,float,string.\n",
    "for eg:- name=\"Rahul\""
   ]
  },
  {
   "cell_type": "markdown",
   "id": "80cb22ee",
   "metadata": {},
   "source": [
    "3.\n",
    "\n",
    "Three data types are :\n",
    "i. int :- It is one of the data type which represents the whole number both positive and negative without any decimal value.\n",
    "           for eg:- val=121\n",
    "\n",
    "ii. str :- This represents string data type which is a sequences of characters, such as letters, digits, symbols, or spaces.               Strings are used to represent text. for eg: name=\"Rahul\"\n",
    "\n",
    "iii. bool :- It is another data type which represents value which is either true or false.They are used in logical expressions,               comparisons, and conditions to control program flow. for eg: is_male=true"
   ]
  },
  {
   "cell_type": "markdown",
   "id": "c19288d5",
   "metadata": {},
   "source": [
    "4.\n",
    "An expression is made up of one or more operands and operators which helps in  performing various operations, make decisions, and manipulate data. For eg:- x=5+y\n",
    "All expressions serve the purpose of computing or evaluating a value using  operands and operators."
   ]
  },
  {
   "cell_type": "markdown",
   "id": "737b6e55",
   "metadata": {},
   "source": [
    "5.\n",
    "\n",
    "The expression in the statement is 10.An expression is a combination of literals, variables, operators, and function calls that produce a value when evaluated.They are used to perform calculations, comparisons, and various other computations.\n",
    "\n",
    "In the given expresion the entire line of code spam = 10 is a statement. It is an assignment statement, which is  used to assign the value of 10 to the variable spam using = operator.Statement is a complete line of code that performs an action. It represents a command or instruction that instructs the computer to execute a specific task. \n"
   ]
  },
  {
   "cell_type": "markdown",
   "id": "28ccd996",
   "metadata": {},
   "source": [
    "6. \n",
    "The variable bacon will contain a value of 23."
   ]
  },
  {
   "cell_type": "markdown",
   "id": "2e7ada6f",
   "metadata": {},
   "source": [
    "7.\n",
    "\n",
    "In the expression 'spam' + 'spamspam' there are two string literals which are concatenated by using + operator. Hence the output will be 'spamspamspam'.\n",
    "\n",
    "Whereas,'spam' * 3 will result in the string 'spamspamspam'. The original string 'spam' is repeated three times to form the final string."
   ]
  },
  {
   "cell_type": "markdown",
   "id": "0cdb2702",
   "metadata": {},
   "source": [
    "8.\n",
    "\n",
    "While declaring any variable in programming language there are certain rules which has to follow while naming.While naming a variable there is a rule that no variable can start from number for eg:- 1_value .That's why eggs is a valid variable while 100 is invalid."
   ]
  },
  {
   "cell_type": "markdown",
   "id": "db3f5c41",
   "metadata": {},
   "source": [
    "9.\n",
    "\n",
    "i.) int():\n",
    "    The int() function is used to convert a value to an integer. It can convert a string representing an integer or a floating-     point number to an integer data type. for eg:- x=int(\"10\")\n",
    "    \n",
    "ii.) float():\n",
    "    The float() function is used to convert a value to a floating-point number. It can convert a string representing a floating-     point number or an integer to a floating-point data type. for eg:-  x=float(\"11.32\")\n",
    "    \n",
    "iii.) str():\n",
    "      The str() function is used to convert a value to a string. It can convert integers, floating-point numbers, or any other         data types to their string representation.     x=str(\"13\")"
   ]
  },
  {
   "cell_type": "markdown",
   "id": "752a8eb2",
   "metadata": {},
   "source": [
    "10.\n",
    "\n",
    "The expression 'I have eaten ' + 99 + ' burritos.' causes an error because we are trying to concatenate\n",
    "a string ('I have eaten ') with an integer (99) directly using the + operator. In Python, concatenation with \n",
    "the + operator is only possible when both operands are of the same data type .\n",
    "\n",
    "To fix the error and successfully concatenate the integer 99 with the string, we need to convert the integer to a string using the str() function before performing the concatenation.\n",
    "\n",
    "solution is:\n",
    "\n",
    "'I have eaten '+ str(99)+ ' burritos'"
   ]
  }
 ],
 "metadata": {
  "kernelspec": {
   "display_name": "Python 3 (ipykernel)",
   "language": "python",
   "name": "python3"
  },
  "language_info": {
   "codemirror_mode": {
    "name": "ipython",
    "version": 3
   },
   "file_extension": ".py",
   "mimetype": "text/x-python",
   "name": "python",
   "nbconvert_exporter": "python",
   "pygments_lexer": "ipython3",
   "version": "3.10.9"
  }
 },
 "nbformat": 4,
 "nbformat_minor": 5
}
