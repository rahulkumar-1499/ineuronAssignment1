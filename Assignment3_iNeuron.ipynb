{
 "cells": [
  {
   "cell_type": "markdown",
   "id": "2cae95a9-50e9-4c6a-b4bd-f4dff824ea4a",
   "metadata": {},
   "source": [
    "#Assignment 3"
   ]
  },
  {
   "cell_type": "markdown",
   "id": "a09ccc79-943d-43c0-8828-d47be69f205b",
   "metadata": {},
   "source": [
    "1.Advantages of Functions are as follows :-\n",
    "\n",
    "i.  It provides reusability of code.Once we define a particular code inside the function we can use that function anywhere throughout the code.\n",
    "ii. It allow us to break down a complex problem into smaller pieces of code  where each piece of code can handle a specific task, making the code         easier to understand, test, and maintain.\n",
    "iii. It helps in maintanance of entire code as when we need to make changes, we only need to modify a specific function instead of searching through        the entire codebase. This reduces the risk of introducing errors.\n",
    "iv.  It can be tested independently, making it easier to identify and fix bugs. This promotes a more reliable and robust codebase."
   ]
  },
  {
   "cell_type": "markdown",
   "id": "ecf576f3-52df-49df-ac16-103bd68c52e8",
   "metadata": {},
   "source": [
    "2.The code in a function run: when it is executed or called."
   ]
  },
  {
   "cell_type": "markdown",
   "id": "f5a63ce4-7ca0-4d6d-879a-5e82642bac90",
   "metadata": {},
   "source": [
    "3.In python , a function is created using the 'def' statement. The def statement is used to define a new function and specify its name, parameters.\n",
    "    for eg:-\n",
    "    def area(a,b):\n",
    "        return a*b"
   ]
  },
  {
   "cell_type": "markdown",
   "id": "911c6d10-3d2c-4378-887f-a9734203750a",
   "metadata": {},
   "source": [
    "4.A function is a reusable block of code that performs a specific task or set of tasks.It encapsulates a sequence of statements and can have input      parameters and an optional return value. They are defined once and can be invoked multiple times from different parts of the program.\n",
    "\n",
    "Whereas, function call is an action that invokes or executes a function to perform its defined tasks.It triggers the execution of the code within     the function's body.The result of a function call can be used in expressions, assigned to variables, or passed as arguments to other functions.\n",
    "    \n",
    "  for eg:-\n",
    "    #function\n",
    "def sumoftwonumbers(a,b):\n",
    "    return a+b\n",
    "        \n",
    "ans=sumoftwonumbers(3,6)  #function call\n",
    "print(ans)"
   ]
  },
  {
   "cell_type": "markdown",
   "id": "69ee24e6-c14d-41d4-b93e-5b491bfcfecb",
   "metadata": {},
   "source": [
    "5.In a Python program, there is only one global scope, and it encompasses the entire program. This global scope is where variables, functions, and other objects defined at the top level of the script are stored.\n",
    "\n",
    "Local scopes, on the other hand, are created whenever a function is called. Each function call creates its own local scope, and any variables defined within that function are considered local to that scope. Local variables are only accessible within the function where they are defined."
   ]
  },
  {
   "cell_type": "markdown",
   "id": "1bd535a4-7c6f-4791-b20c-fcda3d5fc9ca",
   "metadata": {},
   "source": [
    "6.When a function call returns, the local scope created for that function is destroyed, and the variables defined within that local scope cease to exist. These variables are no longer accessible or usable outside of the function.This behavior helps prevent name conflicts and keeps variables organized and isolated within the specific context of the function they belong to."
   ]
  },
  {
   "cell_type": "markdown",
   "id": "6ff2175b-681e-4e6b-a7d7-e63c2a5f86f7",
   "metadata": {},
   "source": [
    "7.The concept of a return value in python refers to the value that a function produces or \"returns\" after its execution. When a function is called,      it may perform certain operations and computations and then provide a result or value that can be used in the rest of the program. \n",
    "   Yes, it is possible to have a return value in an expression. In many programming languages, including Python, you can use the return value of a        function directly within an expression.\n",
    "   For eg:\n",
    "def findexponential(a,b):\n",
    "    return a**b\n",
    "    \n",
    "ans=findexponential(2,3)\n",
    "print(ans)"
   ]
  },
  {
   "cell_type": "markdown",
   "id": "dd123b30-16f9-4ae1-86bf-8b211cfa1377",
   "metadata": {},
   "source": [
    "8.If a function does not have a return statement, or if the return statement is empty, the function will implicitly return a special value called        None. None is a built-in Python object that represents the absence of a value."
   ]
  },
  {
   "cell_type": "markdown",
   "id": "9b38ae1e-393e-4e80-8d92-cb9fcf4d1c11",
   "metadata": {},
   "source": [
    "9.In Python, if we want to access a global variable inside a function and modify it, you need to use the global keyword to indicate that we are referring to the global variable.If we fail to use global keyword, the function would create a new local variable with the same name, and any modifications would not affect the global variable outside the function.\n",
    "for eg:-\n",
    "age=23\n",
    "\n",
    "def changeage():\n",
    "    global age=25\n",
    "    \n",
    "print(25)"
   ]
  },
  {
   "cell_type": "markdown",
   "id": "a72c4dcf-de0a-48be-bc53-13ef8d7d103f",
   "metadata": {},
   "source": [
    "10.In Python, None is a special constant representing the absence of a value or a null value.If we don't return anything from the function and by any circumstance we try to print the ouput of the function we will get None as output which indicates output does not have a meaningful value.\n",
    "\n",
    "for eg:-\n",
    "\n",
    "def addnum(a,b):\n",
    "    ans=a+b\n",
    "    \n",
    "print(addnum(2,4))     # output is None"
   ]
  },
  {
   "cell_type": "markdown",
   "id": "074668d7-a049-4747-a704-36b380b778ad",
   "metadata": {},
   "source": [
    "11.The sentence \"import areallyourpetsnamederic\" is not a standard Python import statement and would result in a ModuleNotFoundError because there is no Python module named \"areallyourpetsnamederic\"."
   ]
  },
  {
   "cell_type": "markdown",
   "id": "9da796be-a028-46dd-83d5-e565057564df",
   "metadata": {},
   "source": [
    "12.import spam\n",
    "    spam.bacon()"
   ]
  },
  {
   "cell_type": "markdown",
   "id": "538c9f70-9ac9-4ca7-9a11-ce80839e1d7f",
   "metadata": {},
   "source": [
    "13.To prevent a program from crashing when it encounters an error, you can implement error handling using try-except blocks\n",
    "\n",
    "for example:\n",
    "\n",
    "try:\n",
    "    print(\"20\" + 10)\n",
    "except Exception as e:\n",
    "    print(e)"
   ]
  },
  {
   "cell_type": "markdown",
   "id": "0fe85277-4226-4c2c-b221-1ff0c42887db",
   "metadata": {},
   "source": [
    "14.The try clause is used to enclose the code that might potentially raise an exception. It is where we place the code that we want to monitor for errors or exceptions.It is use to create a controlled environment where exceptions can be caught and handled gracefully, preventing the program from crashing.\n",
    "\n",
    "The except clause is used to define how the program should respond when a specific type of exception is raised within the try block. It allows us to specify the actions to take when a particular exception occurs. By providing except clause we can catch and handle exceptions in a way that keeps our program running smoothly even when errors occur."
   ]
  }
 ],
 "metadata": {
  "kernelspec": {
   "display_name": "Python 3 (ipykernel)",
   "language": "python",
   "name": "python3"
  },
  "language_info": {
   "codemirror_mode": {
    "name": "ipython",
    "version": 3
   },
   "file_extension": ".py",
   "mimetype": "text/x-python",
   "name": "python",
   "nbconvert_exporter": "python",
   "pygments_lexer": "ipython3",
   "version": "3.10.6"
  }
 },
 "nbformat": 4,
 "nbformat_minor": 5
}
