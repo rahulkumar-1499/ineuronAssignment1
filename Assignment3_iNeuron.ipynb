{
 "cells": [
  {
   "cell_type": "markdown",
   "id": "2cae95a9-50e9-4c6a-b4bd-f4dff824ea4a",
   "metadata": {},
   "source": [
    "#Assignment 3"
   ]
  },
  {
   "cell_type": "markdown",
   "id": "a09ccc79-943d-43c0-8828-d47be69f205b",
   "metadata": {},
   "source": [
    "1.Advantages of Functions are as follows :-\n",
    "\n",
    "i.  It provides reusability of code.Once we define a particular code inside the function we can use that function anywhere throughout the code.\n",
    "ii. It allow us to break down a complex problem into smaller pieces of code  where each piece of code can handle a specific task, making the code         easier to understand, test, and maintain.\n",
    "iii. It helps in maintanance of entire code as when we need to make changes, we only need to modify a specific function instead of searching through        the entire codebase. This reduces the risk of introducing errors.\n",
    "iv.  It can be tested independently, making it easier to identify and fix bugs. This promotes a more reliable and robust codebase."
   ]
  },
  {
   "cell_type": "markdown",
   "id": "55e47f43-dc02-43cf-9d2b-f63f45dba211",
   "metadata": {},
   "source": [
    "2.The code in a function run: when it is executed or called."
   ]
  },
  {
   "cell_type": "markdown",
   "id": "f5a63ce4-7ca0-4d6d-879a-5e82642bac90",
   "metadata": {},
   "source": [
    "3.In python , a function is created using the 'def' statement. The def statement is used to define a new function and specify its name, parameters.\n",
    "    for eg:-\n",
    "    def area(a,b):\n",
    "        return a*b"
   ]
  },
  {
   "cell_type": "raw",
   "id": "3309871d-9a62-4205-9071-cb53aa2ea7fa",
   "metadata": {},
   "source": [
    "4. A function is a reusable block of code that performs a specific task or set of tasks.It encapsulates a sequence of statements and can have input      parameters and an optional return value. They are defined once and can be invoked multiple times from different parts of the program.\n",
    "\n",
    "    Whereas, function call is an action that invokes or executes a function to perform its defined tasks.It triggers the execution of the code within     the function's body.The result of a function call can be used in expressions, assigned to variables, or passed as arguments to other functions.\n",
    "    \n",
    "    for eg:-\n",
    "    #function\n",
    "    def sumoftwonumbers(a,b):\n",
    "        return a+b\n",
    "        \n",
    "    ans=sumoftwonumbers(3,6)  #function call\n",
    "    print(ans)"
   ]
  },
  {
   "cell_type": "raw",
   "id": "f8a7dc84-f532-4bab-b4de-e5c877db800f",
   "metadata": {},
   "source": [
    "5. In a Python program, there is only one global scope, and it encompasses the entire program. This global scope is where variables, functions, and other objects defined at the top level of the script are stored.\n",
    "\n",
    "Local scopes, on the other hand, are created whenever a function is called. Each function call creates its own local scope, and any variables defined within that function are considered local to that scope. Local variables are only accessible within the function where they are defined."
   ]
  },
  {
   "cell_type": "raw",
   "id": "3271428e-f066-4c23-91dd-8fd72bdff49a",
   "metadata": {},
   "source": [
    "6. When a function call returns, the local scope created for that function is destroyed, and the variables defined within that local scope cease to exist. These variables are no longer accessible or usable outside of the function.This behavior helps prevent name conflicts and keeps variables organized and isolated within the specific context of the function they belong to."
   ]
  },
  {
   "cell_type": "raw",
   "id": "49a76032-a40f-43eb-8077-ed666f0095b0",
   "metadata": {},
   "source": [
    "7. The concept of a return value in python refers to the value that a function produces or \"returns\" after its execution. When a function is called,      it may perform certain operations and computations and then provide a result or value that can be used in the rest of the program. \n",
    "   Yes, it is possible to have a return value in an expression. In many programming languages, including Python, you can use the return value of a        function directly within an expression.\n",
    "   For eg:\n",
    "   def findexponential(a,b):\n",
    "       return a**b\n",
    "    \n",
    "   ans=findexponential(2,3)\n",
    "   print(ans)"
   ]
  },
  {
   "cell_type": "raw",
   "id": "57bbbc75-4ed4-4309-9289-76418a1ed74d",
   "metadata": {},
   "source": [
    "8. If a function does not have a return statement, or if the return statement is empty, the function will implicitly return a special value called        None. None is a built-in Python object that represents the absence of a value."
   ]
  },
  {
   "cell_type": "raw",
   "id": "702cc071-96b0-45b3-bd95-dcb370dd4318",
   "metadata": {},
   "source": [
    "9. In Python, if we want to access a global variable inside a function and modify it, you need to use the global keyword to indicate that we are referring to the global variable.If we fail to use global keyword, the function would create a new local variable with the same name, and any modifications would not affect the global variable outside the function.\n",
    "for eg:-\n",
    "age=23\n",
    "\n",
    "def changeage():\n",
    "    global age=25\n",
    "    \n",
    "print(25)"
   ]
  },
  {
   "cell_type": "raw",
   "id": "49601e5a-2b17-4e2d-8ff1-e458dd3c9c88",
   "metadata": {},
   "source": [
    "10. In Python, None is a special constant representing the absence of a value or a null value.If we don't return anything from the function and by any circumstance we try to print the ouput of the function we will get None as output which indicates output does not have a meaningful value.\n",
    "\n",
    "for eg:-\n",
    "\n",
    "def addnum(a,b):\n",
    "    ans=a+b\n",
    "    \n",
    "print(addnum(2,4))     # output is None"
   ]
  },
  {
   "cell_type": "raw",
   "id": "19f2a00b-f4b5-4b3f-8074-312d75f3e9d0",
   "metadata": {},
   "source": [
    "11. The sentence \"import areallyourpetsnamederic\" is not a standard Python import statement and would result in a ModuleNotFoundError because there is no Python module named \"areallyourpetsnamederic\"."
   ]
  },
  {
   "cell_type": "raw",
   "id": "76b6d37d-42b6-4bc8-b241-bd18d4703f10",
   "metadata": {},
   "source": [
    "12. import spam\n",
    "    spam.bacon()"
   ]
  },
  {
   "cell_type": "raw",
   "id": "18b5b274-16c5-4795-a6df-cfa68bdde8e8",
   "metadata": {},
   "source": [
    "13. To prevent a program from crashing when it encounters an error, you can implement error handling using try-except blocks\n",
    "\n",
    "for example:\n",
    "\n",
    "try:\n",
    "    print(\"20\" + 10)\n",
    "except Exception as e:\n",
    "    print(e)"
   ]
  },
  {
   "cell_type": "raw",
   "id": "03e525fd-4fc6-44ea-8c0c-6ad2abb8a9bb",
   "metadata": {},
   "source": [
    "14. The try clause is used to enclose the code that might potentially raise an exception. It is where we place the code that we want to monitor for errors or exceptions.It is use to create a controlled environment where exceptions can be caught and handled gracefully, preventing the program from crashing.\n",
    "\n",
    "The except clause is used to define how the program should respond when a specific type of exception is raised within the try block. It allows us to specify the actions to take when a particular exception occurs. By providing except clause we can catch and handle exceptions in a way that keeps our program running smoothly even when errors occur."
   ]
  }
 ],
 "metadata": {
  "kernelspec": {
   "display_name": "Python 3 (ipykernel)",
   "language": "python",
   "name": "python3"
  },
  "language_info": {
   "codemirror_mode": {
    "name": "ipython",
    "version": 3
   },
   "file_extension": ".py",
   "mimetype": "text/x-python",
   "name": "python",
   "nbconvert_exporter": "python",
   "pygments_lexer": "ipython3",
   "version": "3.10.6"
  }
 },
 "nbformat": 4,
 "nbformat_minor": 5
}
