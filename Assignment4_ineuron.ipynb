{
 "cells": [
  {
   "cell_type": "markdown",
   "id": "37dc5d51-07a8-452e-b1ae-24de71a54ada",
   "metadata": {},
   "source": [
    "1.The symbol \"[]\" is used to create an empty list that can hold multiple items of various types, like numbers, strings, or even other lists."
   ]
  },
  {
   "cell_type": "markdown",
   "id": "00cef8ee-46b1-48d7-b7a5-6f8b9e403351",
   "metadata": {},
   "source": [
    "2.spam = [2, 4, 6, 8, 10]\n",
    "  spam[2] = 'hello'"
   ]
  },
  {
   "cell_type": "markdown",
   "id": "503214be-fd61-4cbd-bd53-103aba1b1e30",
   "metadata": {},
   "source": [
    "3.my_list = ['a', 'b', 'c', 'd']\n",
    "\n",
    "spam[int(int('3' * 2) / 11)]\n",
    "\n",
    "'3'*2 => '33'\n",
    "int('3'*2) => 33 #string converts to int\n",
    "(int('3'*2)/11) => 3\n",
    "spam[3]='d'"
   ]
  },
  {
   "cell_type": "markdown",
   "id": "0c0bb7ac-50fa-4e0c-96a7-50070bc3fbc9",
   "metadata": {},
   "source": [
    "4.spam[-1] will give output 'd'"
   ]
  },
  {
   "cell_type": "markdown",
   "id": "2a893c14-21b6-4b1d-81dc-826cd6ad554c",
   "metadata": {},
   "source": [
    "5.spam[:2] it starts indexing from 0 and moves till 1. So it will print ['a','b']"
   ]
  },
  {
   "cell_type": "markdown",
   "id": "84a9aa8f-2c6b-4f2e-8c2a-ec9996b51041",
   "metadata": {},
   "source": [
    "6.bacon=[3.14, 'cat,', 11, 'cat,', True]\n",
    "bacon.index('cat')\n",
    "\n",
    "the output will be 1 since there are two 'cat' items inside the bacon the index function returns the position of first occurrance of 'cat'"
   ]
  },
  {
   "cell_type": "markdown",
   "id": "4ac16e76-fe02-4f13-85a2-89262e286c5c",
   "metadata": {},
   "source": [
    "7.bacon.append(99) it modifies the list by adding 99 at the end of the list named bacon"
   ]
  },
  {
   "cell_type": "markdown",
   "id": "290d86c5-072d-40d1-b6ed-651889d44ecf",
   "metadata": {},
   "source": [
    "8.bacon.remove('cat') it modifies the list by removing first occurrance of 'cat' from the list named bacon"
   ]
  },
  {
   "cell_type": "markdown",
   "id": "8f2cfdaf-d674-4e37-8110-4a3f6b22123c",
   "metadata": {},
   "source": [
    "9.List Concatenation (+): The + operator is used to concatenate two or more lists, creating a new list that contains the elements of both lists in the order they appear.\n",
    "for eg:- list1=[2, 4, 6, 8, 10]\n",
    "         list2=['a', 'b', 'c', 'd']\n",
    "         list3=list1+list2\n",
    "         \n",
    "         #output will be [2, 4, 6, 8, 10,'a', 'b', 'c', 'd']\n",
    "List Replication (*): The * operator is used to replicate a list by a specified number of times, creating a new list with repeated elements.\n",
    "for eg:  list1=['a', 'b']\n",
    "        new_list=list1 * 2\n",
    "        \n",
    "        #output will be ['a','b','a','b']"
   ]
  },
  {
   "cell_type": "markdown",
   "id": "cbc0e416-54d4-4792-8097-fb4a92f3ff49",
   "metadata": {},
   "source": [
    "10.append():- this is an inbuilt function used with the list which is use to append the new items in list i.e. adding new items at the end of the list.\n",
    "for eg: list1=[1,2,3,4,5]\n",
    "list1.append('cat')\n",
    "\n",
    "    \n",
    "    #output will be [1,2,3,4,5,'cat']\n",
    "    \n",
    "insert():- This is one of the inbuilt method used with the list which helps in inserting the element at the specified index while moving the existing elements to make space for the new element..\n",
    "for eg: list1=[1,2,3,4,5]\n",
    "list1.insert(1,'cat')\n",
    "print(list1)\n",
    "\n",
    "\n",
    "    #output will be [1,'cat',3,4,5]\n"
   ]
  },
  {
   "cell_type": "markdown",
   "id": "add081e9-cc65-4775-9eb1-6a7b21dff983",
   "metadata": {},
   "source": [
    "11.remove(): The remove() method is used to remove the first occurrence of a specific value from the list. If the value appears multiple times in the list, only the first occurrence is removed.\n",
    "for eg:- list1=['a','b','c',''d]\n",
    "list1.remove('a')\n",
    "print(list1)\n",
    "\n",
    "    #it will print ['b','c','d']\n",
    "\n",
    "pop(): The pop() method removes an item from the list at the specified index and returns its value. If no index is provided, it removes and returns the last item by default.\n",
    "for eg:- list1=['a','b','c',''d]\n",
    "list1.pop(1)      \n",
    "print(list1)\n",
    "\n",
    "    #it ill print ['a','c','d']\n"
   ]
  },
  {
   "cell_type": "markdown",
   "id": "e8c1fa49-ef31-4d99-b757-64161f251ee6",
   "metadata": {},
   "source": [
    "12.Similarities between list and string are:-\n",
    "\n",
    "Ordered Sequences: Both lists and strings are ordered sequences of elements. This means that the elements within them have a specific order, and you can access elements using their indices.\n",
    "\n",
    "Indexing and Slicing: Both lists and strings support indexing, where you can access individual elements by their position. They also support slicing, which allows you to extract substrings or sublists by specifying a range of indices.\n",
    "\n",
    "Iteration: You can iterate over the elements of both lists and strings using loops (e.g., for loops) to access each element one by one."
   ]
  },
  {
   "cell_type": "markdown",
   "id": "bf76426d-f1c9-4017-a9c4-d34fb2fa766d",
   "metadata": {},
   "source": [
    "13.List :-\n",
    "\n",
    "i. They are mutable i.e we can modify the list\n",
    "ii. They are defined with [ ]\n",
    "iii. They have methods for manipulation and modification, such as append(), extend(), remove(), pop().\n",
    "iv. They are slightly slower in some operations due to mutability\n",
    "\n",
    "Tuple :-\n",
    "\n",
    "i. They are immutable i.e we can not modify the tuple\n",
    "ii. They are defined with () \n",
    "iii. They have methods such as count(), index()\n",
    "iv. They are slightly faster in certain operations due to immutability\n"
   ]
  },
  {
   "cell_type": "markdown",
   "id": "62bac8ec-6c8c-4012-85b9-bbfa1317da75",
   "metadata": {},
   "source": [
    "14.To create a tuple that contains only the integer 42, you can use parentheses () and place the integer inside them.\n",
    "for eg-\n",
    "create_tuple=(42,)\n",
    "\n",
    "The comma is necessary so as to distinguish a tuple from just having parentheses."
   ]
  },
  {
   "cell_type": "markdown",
   "id": "853a737a-f523-4030-9c53-9f2a022fc3fe",
   "metadata": {},
   "source": [
    "15.To convert a list into its tuple form we use the tuple() constructor.\n",
    "For eg:-\n",
    "mylist=[1,2,3,4,5]\n",
    "create_tuple_from_list=tuple(mylist)     #this line will convert list named mylist to a tuple by using tuple constructor\n",
    "\n",
    "To convert a tuple into its list form we use the list() constructor.\n",
    "For eg:-\n",
    "mytuple=(1,2,3,4,5)\n",
    "create_list_from_tuple=tuple(mylist)     #this line will convert tuple named mytuple to a list by using list constructor\n"
   ]
  },
  {
   "cell_type": "markdown",
   "id": "261fadb3-e1f2-40ea-a57f-2b450c2c2824",
   "metadata": {},
   "source": [
    "16.Variables that \"contain\" list values actually contain references to those list values, not the lists themselves. \n",
    "When we assign a list to a variable, we are storing a reference to the memory location where the list is stored. This means that the variable doesn't hold the entire list directly ,it holds a reference that points to the memory location where the list's data is stored.\n",
    "\n",
    "list1=[1,2,3,4]\n",
    "list2=list1\n",
    "print(list2)\n",
    "print(list1)\n",
    "\n",
    "\n",
    "    #both will print [1,2,3,4] since list2 has a reference of list1"
   ]
  },
  {
   "cell_type": "markdown",
   "id": "f0f4efd5-aa57-43df-83c9-de217439c321",
   "metadata": {},
   "source": [
    "17 copy.copy():\n",
    "The copy.copy() function creates a shallow copy of an object. A shallow copy of an object is a new object that is a copy of the original object, but it doesn't create copies of the nested objects within the original object. Instead, it references the same nested objects. Changes made to nested objects in the copied object will be reflected in the original object, and vice versa.\n",
    "\n",
    "for example:-\n",
    "list1=['a',['b','c']]\n",
    "list2= copy.copy(list1)   #shallow copy\n",
    "list2[1][1]='cat'\n",
    "print(list1)\n",
    "\n",
    "    #output will be ['a',['b','cat']] the changes will be made in list1 also\n",
    "    \n",
    "    \n",
    "copy.deepcopy():\n",
    "The copy.deepcopy() function creates a deep copy of an object. A deep copy creates a completely new object with new copies of all nested objects. Changes made to nested objects in the copied object will not affect the original object, and vice versa.\n",
    "\n",
    "for example:-\n",
    "list1=['a',['b','c']]\n",
    "list2= copy.deepcopy(list1)   #shallow copy\n",
    "list2[1][1]='cat'\n",
    "print(list1)\n",
    "\n",
    "    #output will be ['a',['b','c']] the changes  made by list2 will not affect list1\n"
   ]
  }
 ],
 "metadata": {
  "kernelspec": {
   "display_name": "Python 3 (ipykernel)",
   "language": "python",
   "name": "python3"
  },
  "language_info": {
   "codemirror_mode": {
    "name": "ipython",
    "version": 3
   },
   "file_extension": ".py",
   "mimetype": "text/x-python",
   "name": "python",
   "nbconvert_exporter": "python",
   "pygments_lexer": "ipython3",
   "version": "3.10.6"
  }
 },
 "nbformat": 4,
 "nbformat_minor": 5
}
